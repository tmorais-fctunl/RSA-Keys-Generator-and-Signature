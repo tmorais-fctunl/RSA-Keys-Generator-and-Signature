{
 "cells": [
  {
   "cell_type": "markdown",
   "id": "7d879111-7215-4f07-abec-e315fbd7e2cd",
   "metadata": {},
   "source": [
    "# Create N Public Keys"
   ]
  },
  {
   "cell_type": "code",
   "execution_count": 30,
   "id": "178c4902-374a-4768-a8d7-7e43a8d1e506",
   "metadata": {},
   "outputs": [],
   "source": [
    "from Crypto.PublicKey import RSA\n",
    "import os\n",
    "import sys\n",
    "import json\n",
    "import secrets"
   ]
  },
  {
   "cell_type": "code",
   "execution_count": 31,
   "id": "b639d7c9-af4a-4c01-8671-8fcc8c4c1d33",
   "metadata": {},
   "outputs": [],
   "source": [
    "def generate_2048_bit_int():\n",
    "    # Generate a random integer in the range [2^2047, 2^2048 - 1] to ensure it is exactly 2048 bits\n",
    "    return secrets.randbits(2048)"
   ]
  },
  {
   "cell_type": "code",
   "execution_count": 25,
   "id": "ab4b4bb4-5729-4836-9a96-25088f841979",
   "metadata": {},
   "outputs": [],
   "source": [
    "# Function to read the JSON file and assign the values to variables\n",
    "def read_json_file(file_path):\n",
    "    # Open and load the JSON file\n",
    "    with open(file_path, 'r') as file:\n",
    "        data = json.load(file)\n",
    "    data = json.loads(data)\n",
    "    # Extract the values and assign to variables\n",
    "    N = data[\"N\"]\n",
    "    E = data[\"E\"]\n",
    "    return E, N"
   ]
  },
  {
   "cell_type": "code",
   "execution_count": 26,
   "id": "69c5fc6f-143a-4a40-aff9-0e1feb962702",
   "metadata": {},
   "outputs": [],
   "source": [
    "numberOfKeys = 50000\n",
    "signature_path = \"signature.json\"  # The path to your JSON file\n",
    "E, N = read_json_file(signature_path)"
   ]
  },
  {
   "cell_type": "code",
   "execution_count": 33,
   "id": "37096e84-1250-4859-b43e-2bf86158a7b9",
   "metadata": {},
   "outputs": [],
   "source": [
    "with open(\"inputKeys_fake.txt\", \"w\") as file:\n",
    "    file.write(f\"{E},{N}\\n\")\n",
    "    for _ in range(1, numberOfKeys):\n",
    "        #privateKey = RSA.generate(2048)\n",
    "        #publicKey = privateKey.publickey()\n",
    "        file.write(f\"65537,{generate_2048_bit_int()}\\n\") #We can generate real RSA keys but for the example I dont think its required..."
   ]
  },
  {
   "cell_type": "code",
   "execution_count": null,
   "id": "61d7891d-6bb4-460e-94b6-29bda99ad774",
   "metadata": {},
   "outputs": [],
   "source": []
  }
 ],
 "metadata": {
  "kernelspec": {
   "display_name": "Python 3 (ipykernel)",
   "language": "python",
   "name": "python3"
  },
  "language_info": {
   "codemirror_mode": {
    "name": "ipython",
    "version": 3
   },
   "file_extension": ".py",
   "mimetype": "text/x-python",
   "name": "python",
   "nbconvert_exporter": "python",
   "pygments_lexer": "ipython3",
   "version": "3.8.19"
  }
 },
 "nbformat": 4,
 "nbformat_minor": 5
}
