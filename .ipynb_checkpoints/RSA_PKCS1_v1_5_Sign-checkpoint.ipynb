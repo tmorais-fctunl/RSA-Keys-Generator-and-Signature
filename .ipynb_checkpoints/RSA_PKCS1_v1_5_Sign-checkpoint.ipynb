{
 "cells": [
  {
   "cell_type": "code",
   "execution_count": 5,
   "id": "f9dad51d-5944-4f8c-a489-00d68f034ef9",
   "metadata": {},
   "outputs": [
    {
     "ename": "ImportError",
     "evalue": "cannot import name 'pkcs1_15' from 'Crypto.Signature' (C:\\Users\\Tiago\\anaconda3\\envs\\Crypto\\lib\\site-packages\\Crypto\\Signature\\__init__.py)",
     "output_type": "error",
     "traceback": [
      "\u001b[1;31m---------------------------------------------------------------------------\u001b[0m",
      "\u001b[1;31mImportError\u001b[0m                               Traceback (most recent call last)",
      "Cell \u001b[1;32mIn[5], line 2\u001b[0m\n\u001b[0;32m      1\u001b[0m \u001b[38;5;28;01mfrom\u001b[39;00m \u001b[38;5;21;01mCrypto\u001b[39;00m\u001b[38;5;21;01m.\u001b[39;00m\u001b[38;5;21;01mPublicKey\u001b[39;00m \u001b[38;5;28;01mimport\u001b[39;00m RSA\n\u001b[1;32m----> 2\u001b[0m \u001b[38;5;28;01mfrom\u001b[39;00m \u001b[38;5;21;01mCrypto\u001b[39;00m\u001b[38;5;21;01m.\u001b[39;00m\u001b[38;5;21;01mSignature\u001b[39;00m \u001b[38;5;28;01mimport\u001b[39;00m pkcs1_15\n\u001b[0;32m      3\u001b[0m \u001b[38;5;28;01mfrom\u001b[39;00m \u001b[38;5;21;01mCrypto\u001b[39;00m\u001b[38;5;21;01m.\u001b[39;00m\u001b[38;5;21;01mHash\u001b[39;00m \u001b[38;5;28;01mimport\u001b[39;00m SHA256\n\u001b[0;32m      4\u001b[0m \u001b[38;5;28;01mimport\u001b[39;00m \u001b[38;5;21;01mhashlib\u001b[39;00m\n",
      "\u001b[1;31mImportError\u001b[0m: cannot import name 'pkcs1_15' from 'Crypto.Signature' (C:\\Users\\Tiago\\anaconda3\\envs\\Crypto\\lib\\site-packages\\Crypto\\Signature\\__init__.py)"
     ]
    }
   ],
   "source": [
    "from Crypto.PublicKey import RSA\n",
    "from Crypto.Signature import pkcs1_15\n",
    "from Crypto.Hash import SHA256\n",
    "import hashlib\n",
    "import os\n",
    "#import time\n",
    "#time.clock = time.time\n",
    "import sys\n",
    "#os.getcwd()"
   ]
  },
  {
   "cell_type": "markdown",
   "id": "3371a692-9c4d-4857-a30d-f8ef07e536d7",
   "metadata": {},
   "source": [
    "##### Key Generation"
   ]
  },
  {
   "cell_type": "code",
   "execution_count": 12,
   "id": "255d79ac-3a42-40a4-bf5a-96142c1a0342",
   "metadata": {},
   "outputs": [],
   "source": [
    "privateKey = RSA.generate(2048)\n",
    "publicKey = privateKey.publickey()\n",
    "\n",
    "with open(\"./Keys/pubkey\",\"wb\") as f:\n",
    "    f.write(publicKey.exportKey())\n",
    "\n",
    "with open(\"./Keys/prvkey\",\"wb\") as p:\n",
    "    p.write(privateKey.exportKey())"
   ]
  },
  {
   "cell_type": "markdown",
   "id": "55614f51-f572-4fcb-9120-749226c700b1",
   "metadata": {},
   "source": [
    "# Import key if already generated"
   ]
  },
  {
   "cell_type": "code",
   "execution_count": 13,
   "id": "54857bdc-e728-44b1-8a00-01cf0d6cdda6",
   "metadata": {},
   "outputs": [],
   "source": [
    "publicKey = RSA.importKey(open('./Keys/pubkey', 'r').read())\n",
    "privateKey = RSA.importKey(open('./Keys/prvkey', 'r').read())"
   ]
  },
  {
   "cell_type": "code",
   "execution_count": 14,
   "id": "317a95ed-7317-4c14-bb02-4ae505294ca6",
   "metadata": {},
   "outputs": [
    {
     "name": "stdout",
     "output_type": "stream",
     "text": [
      "RSA KEY INFORMATION\n",
      "N: 22061602407660180050090263996280025848287564100188444532664123555428453556905728479543309792403750476942179522018687798475231374070424584504557685313437872115102783269498673157160315171511744427795777800851090104079055661328536649904260580597905867711826784101034911535056780391167269336823605449969382892675907297228314236564549622323827905080832406245890135572980998255794533690221182180078863994466883026916633799267127161472960094705164256407573562711526529086905008216020015977528531939489048641103102534549276040642805584811487786911493094795042663869065273576680920600323106402046443981672749782738975319849453\n",
      "E: 65537\n",
      "N: 22061602407660180050090263996280025848287564100188444532664123555428453556905728479543309792403750476942179522018687798475231374070424584504557685313437872115102783269498673157160315171511744427795777800851090104079055661328536649904260580597905867711826784101034911535056780391167269336823605449969382892675907297228314236564549622323827905080832406245890135572980998255794533690221182180078863994466883026916633799267127161472960094705164256407573562711526529086905008216020015977528531939489048641103102534549276040642805584811487786911493094795042663869065273576680920600323106402046443981672749782738975319849453\n",
      "D: 6640664520742670122955439489976899612572573920143086276391430266535500607551143716007001728409124397800301744523897251941970021763084452729319460124482184158790188833138537396757580258303129260221360585278384034715771717213605177116153447265741322494944946670752638965043641100089365125158601472626852256340871999735473317256390197746592152083334893851685919948571344546108405135286133302255794137880019671153754368034277668905715164951197893424060826880291595466498446213855785648022538068499823461606985004553681625044274188898478682157419369501649297222902245513449378375534669368650900179063609486155561930462213\n",
      "P: 133193173658546879042320075999412901450558310653895699435124520784740382538747904008936206893955202999385189274759767455369776602229932960870052014255045682823879866328162960033718303681217320680319854129485116211988388039688091489721379932472731384875761080584181237923274285852448810928331291549325844685943\n",
      "Q: 165636134357884999947187191387580176263333292465411279764751034228805455943836504997895526497100319055708587796267855969541716419624324899906004170497503980554557177315585768827855791468959205892596831409062853232632094230125979572894885186005326000824354883944262523680532353773249743903450533863291578032571\n",
      "U: 16608547703002081011695966071065443941271745575868118155876579789551179782142341169105001981285000435047613969832545889977093518232090146315143961187384839421739475440317756158681556347606379931508765652354661092673078254892015838717442626811987293448333063637317969080097670507611034683351996495309571982670\n"
     ]
    }
   ],
   "source": [
    "print(\"RSA KEY INFORMATION\")\n",
    "print('N: {0}'.format(publicKey.n))\n",
    "print('E: {0}'.format(publicKey.e))\n",
    "print('N: {0}'.format(privateKey.n))\n",
    "print('D: {0}'.format(privateKey.d))\n",
    "print('P: {0}'.format(privateKey.p))\n",
    "print('Q: {0}'.format(privateKey.q))\n",
    "print('U: {0}'.format(privateKey.u))\n",
    "#print('Phi of N: {0}'.format((privateKey.p)*(privateKey.q))"
   ]
  },
  {
   "cell_type": "markdown",
   "id": "c5ef3083-187e-4e3e-b68f-b2b6c36eb0cc",
   "metadata": {},
   "source": [
    "# Signature Generation"
   ]
  },
  {
   "cell_type": "code",
   "execution_count": 28,
   "id": "f985a442-8827-4dfb-a2a8-16db8bd4a7cc",
   "metadata": {},
   "outputs": [
    {
     "name": "stdout",
     "output_type": "stream",
     "text": [
      "Endianess: little\n",
      "SHA256 OID: 2.16.840.1.101.3.4.2.1\n",
      "72155939486846849509759369733266486982821795810448245423168957390607644363272\n"
     ]
    }
   ],
   "source": [
    "#endian = sys.byteorder\n",
    "print('Endianess: {0}'.format(endian))\n",
    "endian = 'little' #can be altered to \"big\" but the circuit does not work for it.\n",
    "message = b'test'\n",
    "messageHash = SHA256.new(message)\n",
    "print('SHA256 OID: {0}'.format(messageHash.oid))\n",
    "messageHashAsBigInt = int.from_bytes(messageHash.digest(), endian)\n",
    "print(messageHashAsBigInt)"
   ]
  },
  {
   "cell_type": "code",
   "execution_count": 25,
   "id": "6f02fc55-c2c7-4936-ad00-017c9dbedd78",
   "metadata": {},
   "outputs": [],
   "source": [
    "signature = pkcs1_15.new(privateKey).sign(messageHash)"
   ]
  },
  {
   "cell_type": "code",
   "execution_count": 26,
   "id": "686f423d-d1a0-4ff1-9d21-643995d40328",
   "metadata": {},
   "outputs": [
    {
     "name": "stdout",
     "output_type": "stream",
     "text": [
      "25896713697446419561645577625736225863289989851748662693068495446633597446339646739802556033713921812095417498408659222319626955254826647269196454511045023450703728696407872785353241963734880992255191496583604273769482636039690216109598189840637324862255122323661599396177944446594172412738757046234668958685667663868600812201677106249567912045875663419644665050194348261585708786641146224103992643083547356789045721190593307294796961472379583219505175297511920588584019257816942745038129725484818722819713186622175055788237127309997212207895134283023607637259321898129918795811054524522148744543230023832149779548030\n"
     ]
    }
   ],
   "source": [
    "signatureAsBigInt = int.from_bytes(signature, endian)\n",
    "print(signatureAsBigInt)"
   ]
  },
  {
   "cell_type": "markdown",
   "id": "ab3b8fcd-bd63-4537-9649-7c1092e7ca8a",
   "metadata": {},
   "source": [
    "# Signature Verification"
   ]
  },
  {
   "cell_type": "code",
   "execution_count": 27,
   "id": "42fb1918-d4f3-47bd-8d86-e0071d139f94",
   "metadata": {},
   "outputs": [
    {
     "name": "stdout",
     "output_type": "stream",
     "text": [
      "The signature is valid.\n"
     ]
    }
   ],
   "source": [
    "try:\n",
    "    pkcs1_15.new(publicKey).verify(messageHash, signature)\n",
    "    print (\"The signature is valid.\")\n",
    "except (ValueError, TypeError):\n",
    "   print (\"The signature is not valid.\")"
   ]
  },
  {
   "cell_type": "markdown",
   "id": "77356abf-d1d8-4733-9603-b008a66ff007",
   "metadata": {},
   "source": [
    "# Save the Public Modulus, E, the signature and the hash to a json file:"
   ]
  },
  {
   "cell_type": "code",
   "execution_count": 1,
   "id": "c3be2bd9-3dc8-401d-b417-deb8d6c12174",
   "metadata": {},
   "outputs": [],
   "source": [
    "def generate_json(N, E, sign, hashed): \n",
    "\n",
    "    # Structure the result as a dictionary matching the JSON format\n",
    "    result = {\n",
    "        \"N\": N,\n",
    "        \"E\": E,\n",
    "        \"sign\": sign,\n",
    "        \"hashed\": hashed\n",
    "    }\n",
    "\n",
    "    # Convert to JSON string\n",
    "    return json.dumps(result, indent=4)"
   ]
  },
  {
   "cell_type": "code",
   "execution_count": 3,
   "id": "306f661b-dd65-49e5-ac19-a02f7a433e05",
   "metadata": {},
   "outputs": [
    {
     "ename": "NameError",
     "evalue": "name 'publicKey' is not defined",
     "output_type": "error",
     "traceback": [
      "\u001b[1;31m---------------------------------------------------------------------------\u001b[0m",
      "\u001b[1;31mNameError\u001b[0m                                 Traceback (most recent call last)",
      "Cell \u001b[1;32mIn[3], line 1\u001b[0m\n\u001b[1;32m----> 1\u001b[0m \u001b[38;5;28mprint\u001b[39m(generate_json(\u001b[43mpublicKey\u001b[49m\u001b[38;5;241m.\u001b[39mn, publicKey\u001b[38;5;241m.\u001b[39me, signatureAsBigInt, messageHashAsBigInt))\n",
      "\u001b[1;31mNameError\u001b[0m: name 'publicKey' is not defined"
     ]
    }
   ],
   "source": [
    "print(generate_json(publicKey.n, publicKey.e, signatureAsBigInt, messageHashAsBigInt))"
   ]
  },
  {
   "cell_type": "code",
   "execution_count": null,
   "id": "80cc2445-596d-41d8-8b52-ef0a1fa6fb9a",
   "metadata": {},
   "outputs": [],
   "source": []
  }
 ],
 "metadata": {
  "kernelspec": {
   "display_name": "Python 3 (ipykernel)",
   "language": "python",
   "name": "python3"
  },
  "language_info": {
   "codemirror_mode": {
    "name": "ipython",
    "version": 3
   },
   "file_extension": ".py",
   "mimetype": "text/x-python",
   "name": "python",
   "nbconvert_exporter": "python",
   "pygments_lexer": "ipython3",
   "version": "3.8.19"
  }
 },
 "nbformat": 4,
 "nbformat_minor": 5
}
