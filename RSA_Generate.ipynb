{
 "cells": [
  {
   "cell_type": "markdown",
   "id": "7d879111-7215-4f07-abec-e315fbd7e2cd",
   "metadata": {},
   "source": [
    "# Create N Public Keys"
   ]
  },
  {
   "cell_type": "code",
   "execution_count": 1,
   "id": "178c4902-374a-4768-a8d7-7e43a8d1e506",
   "metadata": {},
   "outputs": [],
   "source": [
    "from Crypto.PublicKey import RSA\n",
    "import os\n",
    "import sys"
   ]
  },
  {
   "cell_type": "code",
   "execution_count": 3,
   "id": "69c5fc6f-143a-4a40-aff9-0e1feb962702",
   "metadata": {},
   "outputs": [],
   "source": [
    "numberOfKeys = 50"
   ]
  },
  {
   "cell_type": "code",
   "execution_count": 5,
   "id": "37096e84-1250-4859-b43e-2bf86158a7b9",
   "metadata": {},
   "outputs": [],
   "source": [
    "with open(\"inputKeys.txt\", \"w\") as file:\n",
    "    for _ in range(numberOfKeys):\n",
    "        privateKey = RSA.generate(2048)\n",
    "        publicKey = privateKey.publickey()\n",
    "        file.write(f\"{publicKey.e},{publicKey.n}\\n\")"
   ]
  },
  {
   "cell_type": "code",
   "execution_count": null,
   "id": "61d7891d-6bb4-460e-94b6-29bda99ad774",
   "metadata": {},
   "outputs": [],
   "source": []
  }
 ],
 "metadata": {
  "kernelspec": {
   "display_name": "Python 3 (ipykernel)",
   "language": "python",
   "name": "python3"
  },
  "language_info": {
   "codemirror_mode": {
    "name": "ipython",
    "version": 3
   },
   "file_extension": ".py",
   "mimetype": "text/x-python",
   "name": "python",
   "nbconvert_exporter": "python",
   "pygments_lexer": "ipython3",
   "version": "3.12.4"
  }
 },
 "nbformat": 4,
 "nbformat_minor": 5
}
