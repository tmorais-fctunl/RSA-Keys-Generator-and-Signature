{
 "cells": [
  {
   "cell_type": "code",
   "execution_count": 1,
   "id": "7c2c899d-3175-4ad7-8c5a-cd1d8469cb96",
   "metadata": {},
   "outputs": [],
   "source": [
    "import json\n",
    "import os"
   ]
  },
  {
   "cell_type": "code",
   "execution_count": 2,
   "id": "e1df045d-6622-446d-b15d-e99e581c4127",
   "metadata": {},
   "outputs": [],
   "source": [
    "def read_file_and_convert_keys(file_path: str) -> list:\n",
    "    # Open the file and read the content\n",
    "    with open(file_path, 'r') as file:\n",
    "        file_content = file.read().strip()\n",
    "\n",
    "    # Split the file content by new line\n",
    "    lines = file_content.split('\\n')\n",
    "\n",
    "    # Map each line to a tuple of (E, N)\n",
    "    result = []\n",
    "    for line in lines:\n",
    "        E, N = line.split(',')\n",
    "        result.append((int(E.strip()), int(N.strip())))\n",
    "\n",
    "    return result"
   ]
  },
  {
   "cell_type": "code",
   "execution_count": 3,
   "id": "52887a88-5a08-4ddb-96b6-c805a6f5c682",
   "metadata": {},
   "outputs": [],
   "source": [
    "def bigint_to_array(n: int, k: int, x: int) -> list:\n",
    "    mod = 1\n",
    "    for _ in range(n):\n",
    "        mod *= 2\n",
    "\n",
    "    ret = []\n",
    "    x_temp = x\n",
    "    for _ in range(k):\n",
    "        ret.append(x_temp % mod)\n",
    "        x_temp //= mod  # Use integer division to ensure x_temp remains an integer\n",
    "\n",
    "    return ret"
   ]
  },
  {
   "cell_type": "code",
   "execution_count": 4,
   "id": "9a3c10f4-f7b0-4122-9bac-0a8c311747e9",
   "metadata": {},
   "outputs": [],
   "source": [
    "def generate_json_efficient(m, exp, publicKeyExp, publicKeyM, sign, hashed, nkeys):\n",
    "    # Prepare the publicKey_array, convert numbers to strings\n",
    "    publicKey_array = [[str(num) for num in bigint_to_array(64, 32, publicKeyExp)],\n",
    "                       [str(num) for num in bigint_to_array(64, 32, publicKeyM)]]\n",
    "    \n",
    "    # Prepare the publicKeys_array, convert numbers to strings\n",
    "    publicKeys_array = []\n",
    "    publicKeys_array.append(publicKey_array)\n",
    "    for i in range(nkeys-1):\n",
    "        publicKeys_array.append([\n",
    "            [str(num) for num in bigint_to_array(64, 32, exp[i])],  # Exponent as string\n",
    "            [str(num) for num in bigint_to_array(64, 32, m[i])]     # Modulus as string\n",
    "        ])\n",
    "\n",
    "    # Convert sign and hashed using bigint_to_array, convert numbers to strings\n",
    "    sign_array = [str(num) for num in bigint_to_array(64, 32, sign)]\n",
    "    hashed_array = [str(num) for num in bigint_to_array(64, 4, hashed)]\n",
    "\n",
    "    # Structure the result as a dictionary matching the JSON format\n",
    "    result = {\n",
    "        \"publicKeys\": publicKeys_array,\n",
    "        \"sign\": sign_array,\n",
    "        \"hashed\": hashed_array,\n",
    "        \"publicKey\": publicKey_array\n",
    "    }\n",
    "\n",
    "    # Convert to JSON string\n",
    "    return json.dumps(result, indent=4)"
   ]
  },
  {
   "cell_type": "code",
   "execution_count": 5,
   "id": "32e729d8-8a0c-4f01-b7cf-e86eb318c763",
   "metadata": {},
   "outputs": [],
   "source": [
    "def generate_json_strong(m, exp, publicKeyExp, publicKeyM, sign, hashed, nkeys):\n",
    "\n",
    "    publicKey_array = [[str(num) for num in bigint_to_array(64, 32, publicKeyExp)],\n",
    "                       [str(num) for num in bigint_to_array(64, 32, publicKeyM)]]\n",
    "    \n",
    "    # Prepare the publicKeys_array, convert numbers to strings\n",
    "    publicKeys_array = []\n",
    "    publicKeys_array.append(publicKey_array)\n",
    "    for i in range(nkeys-1):\n",
    "        publicKeys_array.append([\n",
    "            [str(num) for num in bigint_to_array(64, 32, exp[i])],  # Exponent as string\n",
    "            [str(num) for num in bigint_to_array(64, 32, m[i])]     # Modulus as string\n",
    "        ])\n",
    "\n",
    "    # Convert sign and hashed using bigint_to_array, convert numbers to strings\n",
    "    sign_array = [str(num) for num in bigint_to_array(64, 32, sign)]\n",
    "    hashed_array = [str(num) for num in bigint_to_array(64, 4, hashed)]\n",
    "\n",
    "    # Structure the result as a dictionary matching the JSON format\n",
    "    result = {\n",
    "        \"publicKeys\": publicKeys_array,\n",
    "        \"sign\": sign_array,\n",
    "        \"hashed\": hashed_array\n",
    "    }\n",
    "\n",
    "    # Convert to JSON string\n",
    "    return json.dumps(result, indent=4)"
   ]
  },
  {
   "cell_type": "code",
   "execution_count": 6,
   "id": "b48244df-8770-44ba-a667-e891f48be52c",
   "metadata": {},
   "outputs": [],
   "source": [
    "def write_json_input_files(m, exp, publicKeyExp, publicKeyM, sign, hashed, nkeys):\n",
    "    # Specify the folder where you want to store the file\n",
    "    strong_folder_path = \"strong_inputs_folder\"\n",
    "    efficient_folder_path = \"efficient_inputs_folder\"\n",
    "    \n",
    "    # Create the folders if they don't not exist\n",
    "    os.makedirs(strong_folder_path, exist_ok=True)\n",
    "    os.makedirs(efficient_folder_path, exist_ok=True)\n",
    "    \n",
    "    # Dynamically create the file name based on the size of the m array\n",
    "    strong_input_file_name = f'output_strong_{nkeys}.json'\n",
    "    efficient_input_file_name = f'output_efficient_{nkeys}.json'\n",
    "    \n",
    "    # Construct the full file path with folder\n",
    "    strong_output_file_path = os.path.join(strong_folder_path, strong_input_file_name)\n",
    "    efficient_output_file_path = os.path.join(efficient_folder_path, efficient_input_file_name)\n",
    "    \n",
    "    # Generate the JSON\n",
    "    efficient_json_data = generate_json_efficient(m, exp, publicKeyExp, publicKeyM, sign, hashed, nkeys)\n",
    "    strong_json_data = generate_json_strong(m, exp, publicKeyExp, publicKeyM, sign, hashed, nkeys)\n",
    "    \n",
    "    # Write the JSON to a file directly\n",
    "    with open(efficient_output_file_path, \"w\") as efficient_json_file:\n",
    "        efficient_json_file.write(efficient_json_data)\n",
    "    print(f\"Efficient Group Signature JSON data with {nkeys} keys has been written to {efficient_output_file_path}\")\n",
    "    \n",
    "    with open(strong_output_file_path, \"w\") as strong_json_file:\n",
    "        strong_json_file.write(strong_json_data)\n",
    "    print(f\"Strong Group Signature JSON data with {nkeys} keys has been written to {strong_output_file_path}\")"
   ]
  },
  {
   "cell_type": "markdown",
   "id": "7f75269b-e962-4a30-a120-c3c1efdfb530",
   "metadata": {},
   "source": [
    "# What we do is read all the public keys, signature and hash. Then we transfrom them into readable inputs and generate an input file to be provided to the proof generation protocol.\n",
    "# We will do inputs for 50, 500, 5000 and 50000 public keys."
   ]
  },
  {
   "cell_type": "code",
   "execution_count": 7,
   "id": "3fb6e547-38a2-4dbd-a623-941e68e3754e",
   "metadata": {},
   "outputs": [],
   "source": [
    "file_path = \"inputKeys_fake.txt\"\n",
    "public_keys = read_file_and_convert_keys(file_path)\n",
    "\n",
    "# Separate exponents and modulus into two arrays\n",
    "exp = [key[0] for key in public_keys]  # Extract the first element (E)\n",
    "m = [key[1] for key in public_keys]  # Extract the second element (N)"
   ]
  },
  {
   "cell_type": "code",
   "execution_count": 8,
   "id": "fcba14b1-8efc-4b9b-bb56-75c695115137",
   "metadata": {},
   "outputs": [],
   "source": [
    "# Function to read the JSON signature file and assign the values to variables\n",
    "def read_json_file(file_path):\n",
    "    # Open and load the JSON file\n",
    "    with open(file_path, 'r') as file:\n",
    "        data = json.load(file)\n",
    "    data = json.loads(data)\n",
    "    # Extract the values and assign to variables\n",
    "    N = data[\"N\"]\n",
    "    E = data[\"E\"]\n",
    "    sign = data[\"sign\"]\n",
    "    hashed = data[\"hashed\"]\n",
    "    return E, N, sign, hashed"
   ]
  },
  {
   "cell_type": "code",
   "execution_count": 9,
   "id": "771adffc-52ff-4d93-b9b8-70f89db261a6",
   "metadata": {},
   "outputs": [],
   "source": [
    "signature_path = \"signature.json\"  # The path to your JSON file\n",
    "publicKeyExp, publicKeyM, sign, hashed = read_json_file(signature_path)\n",
    "\n",
    "\n",
    "#m = [26877283975388232002065546470999785257065668437121277626422898829468295994425002534123931915945559617344634299463672464881786335501998933229817362492919530719356197980244178171682568314630456704843964235701169272840827403226569155673809960150900311743961237789646475480998560495177043349952420160197708953986181525637253074713500260384690148853022580356324720561179472725807442763843755515338818629917380201208369993837646911190634717770914200111131983791094934970474752204714209363619762523501868989404033152536987791077018610508510651331541408664242381532359216354015898457615549908800129418374861154322861098417303,\n",
    "    #27333278531038650284292446400685983964543820405055158402397263907659995327446166369388984969315774410223081038389734916442552953312548988147687296936649645550823280957757266695625382122565413076484125874545818286099364801140117875853249691189224238587206753225612046406534868213180954324992542640955526040556053150097561640564120642863954208763490114707326811013163227280580130702236406906684353048490731840275232065153721031968704703853746667518350717957685569289022049487955447803273805415754478723962939325870164033644600353029240991739641247820015852898600430315191986948597672794286676575642204004244219381500407]\n",
    "#exp = [65537, 65537]\n",
    "#publicKeyExp = 65537\n",
    "#publicKeyM = 26877283975388232002065546470999785257065668437121277626422898829468295994425002534123931915945559617344634299463672464881786335501998933229817362492919530719356197980244178171682568314630456704843964235701169272840827403226569155673809960150900311743961237789646475480998560495177043349952420160197708953986181525637253074713500260384690148853022580356324720561179472725807442763843755515338818629917380201208369993837646911190634717770914200111131983791094934970474752204714209363619762523501868989404033152536987791077018610508510651331541408664242381532359216354015898457615549908800129418374861154322861098417303\n",
    "#sign = 19970770434011356420695616570275995588733851736092916486111712132583641231522399849078260379017479208895803667652431366593883985802635999227638120171560060271785507252576191070096993051229216860066470378690422171938259912306738962186526007146103769150108002059810205462974903424990722607936274237920270872702180029184401091695395600924057276873789754646380608203609851792334985336197032772780502144607311769527475415342699750160560754943907331155361187938339206488970924682929057116994252391614878690800996605435792148903886765163146205141249146933886278846746712104071544235211937440019023711390224571884634365863432\n",
    "#hashed = 72155939486846849509759369733266486982821795810448245423168957390607644363272"
   ]
  },
  {
   "cell_type": "code",
   "execution_count": 10,
   "id": "bbb7a205-14db-4d4a-8ecc-412d9a15e076",
   "metadata": {},
   "outputs": [
    {
     "name": "stdout",
     "output_type": "stream",
     "text": [
      "Efficient Group Signature JSON data with 5 keys has been written to efficient_inputs_folder\\output_efficient_5.json\n",
      "Strong Group Signature JSON data with 5 keys has been written to strong_inputs_folder\\output_strong_5.json\n",
      "Efficient Group Signature JSON data with 10 keys has been written to efficient_inputs_folder\\output_efficient_10.json\n",
      "Strong Group Signature JSON data with 10 keys has been written to strong_inputs_folder\\output_strong_10.json\n",
      "Efficient Group Signature JSON data with 20 keys has been written to efficient_inputs_folder\\output_efficient_20.json\n",
      "Strong Group Signature JSON data with 20 keys has been written to strong_inputs_folder\\output_strong_20.json\n",
      "Efficient Group Signature JSON data with 50 keys has been written to efficient_inputs_folder\\output_efficient_50.json\n",
      "Strong Group Signature JSON data with 50 keys has been written to strong_inputs_folder\\output_strong_50.json\n",
      "Efficient Group Signature JSON data with 500 keys has been written to efficient_inputs_folder\\output_efficient_500.json\n",
      "Strong Group Signature JSON data with 500 keys has been written to strong_inputs_folder\\output_strong_500.json\n",
      "Efficient Group Signature JSON data with 5000 keys has been written to efficient_inputs_folder\\output_efficient_5000.json\n",
      "Strong Group Signature JSON data with 5000 keys has been written to strong_inputs_folder\\output_strong_5000.json\n",
      "Efficient Group Signature JSON data with 50000 keys has been written to efficient_inputs_folder\\output_efficient_50000.json\n",
      "Strong Group Signature JSON data with 50000 keys has been written to strong_inputs_folder\\output_strong_50000.json\n"
     ]
    }
   ],
   "source": [
    "#Write 5 keys\n",
    "write_json_input_files(m[:5], exp[:5], publicKeyExp, publicKeyM, sign, hashed, 5)\n",
    "\n",
    "#Write 10 keys\n",
    "write_json_input_files(m[:10], exp[:10], publicKeyExp, publicKeyM, sign, hashed, 10)\n",
    "\n",
    "#Write 50 keys\n",
    "write_json_input_files(m[:20], exp[:20], publicKeyExp, publicKeyM, sign, hashed, 20)\n",
    "\n",
    "#Write 50 keys\n",
    "write_json_input_files(m[:50], exp[:50], publicKeyExp, publicKeyM, sign, hashed, 50)\n",
    "\n",
    "#Write 500 keys\n",
    "write_json_input_files(m[:500], exp[:500], publicKeyExp, publicKeyM, sign, hashed, 500)\n",
    "\n",
    "#Write 5000 keys\n",
    "write_json_input_files(m[:5000], exp[:5000], publicKeyExp, publicKeyM, sign, hashed, 5000)\n",
    "\n",
    "#Write 50000 keys\n",
    "write_json_input_files(m[:50000], exp[:50000], publicKeyExp, publicKeyM, sign, hashed, 50000)"
   ]
  },
  {
   "cell_type": "code",
   "execution_count": null,
   "id": "f378c6a7-ecda-490a-a4ff-276d9ce65ae0",
   "metadata": {},
   "outputs": [],
   "source": []
  }
 ],
 "metadata": {
  "kernelspec": {
   "display_name": "Python 3 (ipykernel)",
   "language": "python",
   "name": "python3"
  },
  "language_info": {
   "codemirror_mode": {
    "name": "ipython",
    "version": 3
   },
   "file_extension": ".py",
   "mimetype": "text/x-python",
   "name": "python",
   "nbconvert_exporter": "python",
   "pygments_lexer": "ipython3",
   "version": "3.8.19"
  }
 },
 "nbformat": 4,
 "nbformat_minor": 5
}
