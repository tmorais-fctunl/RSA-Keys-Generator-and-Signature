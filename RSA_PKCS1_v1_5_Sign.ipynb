{
 "cells": [
  {
   "cell_type": "code",
   "execution_count": 1,
   "id": "f9dad51d-5944-4f8c-a489-00d68f034ef9",
   "metadata": {},
   "outputs": [],
   "source": [
    "from Crypto.PublicKey import RSA\n",
    "from Crypto.Signature import pkcs1_15\n",
    "from Crypto.Hash import SHA256\n",
    "import hashlib\n",
    "import os\n",
    "#import time\n",
    "#time.clock = time.time\n",
    "import sys\n",
    "#os.getcwd()"
   ]
  },
  {
   "cell_type": "markdown",
   "id": "3371a692-9c4d-4857-a30d-f8ef07e536d7",
   "metadata": {},
   "source": [
    "##### Key Generation"
   ]
  },
  {
   "cell_type": "code",
   "execution_count": 2,
   "id": "255d79ac-3a42-40a4-bf5a-96142c1a0342",
   "metadata": {},
   "outputs": [],
   "source": [
    "privateKey = RSA.generate(2048)\n",
    "publicKey = privateKey.publickey()\n",
    "\n",
    "#with open(\"./Keys/pubkey\",\"wb\") as f:\n",
    "    #f.write(publicKey.exportKey())\n",
    "\n",
    "#with open(\"./Keys/prvkey\",\"wb\") as p:\n",
    "    #p.write(privateKey.exportKey())"
   ]
  },
  {
   "cell_type": "markdown",
   "id": "55614f51-f572-4fcb-9120-749226c700b1",
   "metadata": {},
   "source": [
    "# Import key if already generated"
   ]
  },
  {
   "cell_type": "code",
   "execution_count": 13,
   "id": "54857bdc-e728-44b1-8a00-01cf0d6cdda6",
   "metadata": {},
   "outputs": [],
   "source": [
    "publicKey = RSA.importKey(open('./Keys/pubkey', 'r').read())\n",
    "privateKey = RSA.importKey(open('./Keys/prvkey', 'r').read())"
   ]
  },
  {
   "cell_type": "code",
   "execution_count": 3,
   "id": "317a95ed-7317-4c14-bb02-4ae505294ca6",
   "metadata": {},
   "outputs": [
    {
     "name": "stdout",
     "output_type": "stream",
     "text": [
      "RSA KEY INFORMATION\n",
      "N: 23856579635876934317377148300221694889002429025166325293160397602607175923979986700955648685894540823005904353209082430449121320503318211282199887746646539781228103673714008464896533088659426322038556398184042933298014433654636671796360006056117530409916783988648498678756604878719847387982626855153189176254842158047041248725298850641043810122668617560933870277277102644801058901414859239529815131588923694462095952434464475321416550846379227954544160294155980639635660979700578134373543759755008466883543633390971917477799499940112274931375134309311934381482676176293083125247193476118569625245068913428303655702097\n",
      "E: 65537\n",
      "N: 23856579635876934317377148300221694889002429025166325293160397602607175923979986700955648685894540823005904353209082430449121320503318211282199887746646539781228103673714008464896533088659426322038556398184042933298014433654636671796360006056117530409916783988648498678756604878719847387982626855153189176254842158047041248725298850641043810122668617560933870277277102644801058901414859239529815131588923694462095952434464475321416550846379227954544160294155980639635660979700578134373543759755008466883543633390971917477799499940112274931375134309311934381482676176293083125247193476118569625245068913428303655702097\n",
      "D: 236975042235010516816645918236176867612807746698556201319062801765373323870652781517648462616801899320640916336407108384918107018137237828169005705526143970544570173971768916957560508426038520769139573297798372668523237198974143969657298380190312530278404967829015253061179940736478945474719472705566720383015710639984396495058354843590822872310831077141721268932118252921448931681871765514440805731861052264640812687680585358697378953170732757964183091351255126731472373729861477956003649756531850727495470292225653664284993021263953395722983077708789929862103491448590556619331134483044436901299330093975795328061\n",
      "P: 143787482239064992414621946213006437348154844409570402124211349581348304315578077554717370973947568314896890364061357631316340536725165647850416698483303964502027826558398053952663058466502089491028741476674956560707126381600121112070200047147055389147546998501699029477526113271005427549683534980063920260483\n",
      "Q: 165915553039675135895900915396458704314416168694827061014283089823399328843014039824702852398420393016991779255468367071129205004046823046019907562051774615839462712076232798082000218809508065368136033939500241721630641400945773334670307589659555438767269701499096370483792461748818788785317488480664161839259\n",
      "U: 68974360237688064599442841571432494844740044317388774077524486074660472763505356474519955872253164696379610914106801873622250569531473275131204819276419269316547882464739092186827827681275956321657767258794686631150947088504459606419165407095792213603184821642548634193751547700812196575963171760410885819444\n"
     ]
    }
   ],
   "source": [
    "print(\"RSA KEY INFORMATION\")\n",
    "print('N: {0}'.format(publicKey.n))\n",
    "print('E: {0}'.format(publicKey.e))\n",
    "print('N: {0}'.format(privateKey.n))\n",
    "print('D: {0}'.format(privateKey.d))\n",
    "print('P: {0}'.format(privateKey.p))\n",
    "print('Q: {0}'.format(privateKey.q))\n",
    "print('U: {0}'.format(privateKey.u))\n",
    "#print('Phi of N: {0}'.format((privateKey.p)*(privateKey.q))"
   ]
  },
  {
   "cell_type": "markdown",
   "id": "c5ef3083-187e-4e3e-b68f-b2b6c36eb0cc",
   "metadata": {},
   "source": [
    "# Signature Generation"
   ]
  },
  {
   "cell_type": "code",
   "execution_count": 5,
   "id": "f985a442-8827-4dfb-a2a8-16db8bd4a7cc",
   "metadata": {},
   "outputs": [
    {
     "name": "stdout",
     "output_type": "stream",
     "text": [
      "Endianess: little\n",
      "SHA256 OID: 2.16.840.1.101.3.4.2.1\n",
      "3637832425643895610435099290665119336511696415395986933609875766427977287327\n"
     ]
    }
   ],
   "source": [
    "#endian = sys.byteorder\n",
    "endian = 'little' #can be altered to \"big\" but the circuit does not work for it.\n",
    "print('Endianess: {0}'.format(endian))\n",
    "message = b'test'\n",
    "messageHash = SHA256.new(message)\n",
    "print('SHA256 OID: {0}'.format(messageHash.oid))\n",
    "messageHashAsBigInt = int.from_bytes(messageHash.digest(), endian)\n",
    "print(messageHashAsBigInt)"
   ]
  },
  {
   "cell_type": "code",
   "execution_count": 6,
   "id": "6f02fc55-c2c7-4936-ad00-017c9dbedd78",
   "metadata": {},
   "outputs": [],
   "source": [
    "signature = pkcs1_15.new(privateKey).sign(messageHash)"
   ]
  },
  {
   "cell_type": "code",
   "execution_count": 7,
   "id": "686f423d-d1a0-4ff1-9d21-643995d40328",
   "metadata": {},
   "outputs": [
    {
     "name": "stdout",
     "output_type": "stream",
     "text": [
      "26477333624141139167337718410158986044994982307365575748638977928090103450188024868831082713077110916061266184290484209087258224696146963243261509756872353436911992792795449376601338946658984832740938019823640838171924907913970512921192188563132636292955217151966132546728842071839784159241771260481287334532930595324723342135932660783280038104473576128727384047928037857715873769126290954143146716945719658106293494058060709304235473612068043090397386472260316150312176241805558442657628717026056430062167077326107700126884766860923562825097573366030958759891289300502080317646219141110428163664343887560328361852937\n"
     ]
    }
   ],
   "source": [
    "signatureAsBigInt = int.from_bytes(signature, endian)\n",
    "print(signatureAsBigInt)"
   ]
  },
  {
   "cell_type": "markdown",
   "id": "ab3b8fcd-bd63-4537-9649-7c1092e7ca8a",
   "metadata": {},
   "source": [
    "# Signature Verification"
   ]
  },
  {
   "cell_type": "code",
   "execution_count": 8,
   "id": "42fb1918-d4f3-47bd-8d86-e0071d139f94",
   "metadata": {},
   "outputs": [
    {
     "name": "stdout",
     "output_type": "stream",
     "text": [
      "The signature is valid.\n"
     ]
    }
   ],
   "source": [
    "try:\n",
    "    pkcs1_15.new(publicKey).verify(messageHash, signature)\n",
    "    print (\"The signature is valid.\")\n",
    "except (ValueError, TypeError):\n",
    "   print (\"The signature is not valid.\")"
   ]
  },
  {
   "cell_type": "markdown",
   "id": "77356abf-d1d8-4733-9603-b008a66ff007",
   "metadata": {},
   "source": [
    "# Save the Public Modulus, E, the signature and the hash to a json file:"
   ]
  },
  {
   "cell_type": "code",
   "execution_count": 11,
   "id": "c3be2bd9-3dc8-401d-b417-deb8d6c12174",
   "metadata": {},
   "outputs": [],
   "source": [
    "import json\n",
    "def generate_json(N, E, sign, hashed): \n",
    "\n",
    "    # Structure the result as a dictionary matching the JSON format\n",
    "    result = {\n",
    "        \"N\": N,\n",
    "        \"E\": E,\n",
    "        \"sign\": sign,\n",
    "        \"hashed\": hashed\n",
    "    }\n",
    "\n",
    "    # Convert to JSON string\n",
    "    return json.dumps(result, indent=4)"
   ]
  },
  {
   "cell_type": "code",
   "execution_count": 14,
   "id": "306f661b-dd65-49e5-ac19-a02f7a433e05",
   "metadata": {},
   "outputs": [],
   "source": [
    "signature_json_data = generate_json(publicKey.n, publicKey.e, signatureAsBigInt, messageHashAsBigInt)"
   ]
  },
  {
   "cell_type": "code",
   "execution_count": 15,
   "id": "80cc2445-596d-41d8-8b52-ef0a1fa6fb9a",
   "metadata": {},
   "outputs": [
    {
     "name": "stdout",
     "output_type": "stream",
     "text": [
      "Signature JSON data has been written to signature.json\n"
     ]
    }
   ],
   "source": [
    "with open(\"signature.json\", \"w\") as json_file:\n",
    "    json.dump(signature_json_data, json_file, indent=4)\n",
    "    print(f\"Signature JSON data has been written to signature.json\")"
   ]
  },
  {
   "cell_type": "code",
   "execution_count": null,
   "id": "0053da5e-e9a7-4160-a3b6-44d2308007ac",
   "metadata": {},
   "outputs": [],
   "source": []
  }
 ],
 "metadata": {
  "kernelspec": {
   "display_name": "Python 3 (ipykernel)",
   "language": "python",
   "name": "python3"
  },
  "language_info": {
   "codemirror_mode": {
    "name": "ipython",
    "version": 3
   },
   "file_extension": ".py",
   "mimetype": "text/x-python",
   "name": "python",
   "nbconvert_exporter": "python",
   "pygments_lexer": "ipython3",
   "version": "3.8.19"
  }
 },
 "nbformat": 4,
 "nbformat_minor": 5
}
