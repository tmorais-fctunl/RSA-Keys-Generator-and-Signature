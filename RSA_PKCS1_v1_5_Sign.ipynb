{
 "cells": [
  {
   "cell_type": "code",
   "execution_count": 1,
   "id": "f9dad51d-5944-4f8c-a489-00d68f034ef9",
   "metadata": {},
   "outputs": [],
   "source": [
    "from Crypto.PublicKey import RSA\n",
    "from Crypto.Signature import pkcs1_15\n",
    "from Crypto.Hash import SHA256\n",
    "import hashlib\n",
    "import os\n",
    "#import time\n",
    "#time.clock = time.time\n",
    "import sys\n",
    "#os.getcwd()"
   ]
  },
  {
   "cell_type": "markdown",
   "id": "3371a692-9c4d-4857-a30d-f8ef07e536d7",
   "metadata": {},
   "source": [
    "##### Key Generation"
   ]
  },
  {
   "cell_type": "code",
   "execution_count": 2,
   "id": "255d79ac-3a42-40a4-bf5a-96142c1a0342",
   "metadata": {},
   "outputs": [],
   "source": [
    "privateKey = RSA.generate(2048)\n",
    "publicKey = privateKey.publickey()\n",
    "\n",
    "#with open(\"./Keys/pubkey\",\"wb\") as f:\n",
    "    #f.write(publicKey.exportKey())\n",
    "\n",
    "#with open(\"./Keys/prvkey\",\"wb\") as p:\n",
    "    #p.write(privateKey.exportKey())"
   ]
  },
  {
   "cell_type": "markdown",
   "id": "55614f51-f572-4fcb-9120-749226c700b1",
   "metadata": {},
   "source": [
    "# Import key if already generated"
   ]
  },
  {
   "cell_type": "code",
   "execution_count": 13,
   "id": "54857bdc-e728-44b1-8a00-01cf0d6cdda6",
   "metadata": {},
   "outputs": [],
   "source": [
    "publicKey = RSA.importKey(open('./Keys/pubkey', 'r').read())\n",
    "privateKey = RSA.importKey(open('./Keys/prvkey', 'r').read())"
   ]
  },
  {
   "cell_type": "code",
   "execution_count": 3,
   "id": "317a95ed-7317-4c14-bb02-4ae505294ca6",
   "metadata": {},
   "outputs": [
    {
     "name": "stdout",
     "output_type": "stream",
     "text": [
      "RSA KEY INFORMATION\n",
      "N: 26967937222973131736678238735565493282947007517810873899936632280511118508344599342065251450829330015263401777204359104705194450233182924160025132930046494404801151021536298437667921441176307886797453184923805585130189738565188016821213056246079215868348982679983845999363819485495365395755478761048859559809436229595179188117994061242239329324389685506371668165041602451794134966137706873491294772835515449964637924106386891545551160693613057816561309159884746820890362930064047220755053286869786559927535799697939082598271928128158056702660152610518079136121780825099852171924389017850885557902175878585123322580521\n",
      "E: 65537\n",
      "N: 26967937222973131736678238735565493282947007517810873899936632280511118508344599342065251450829330015263401777204359104705194450233182924160025132930046494404801151021536298437667921441176307886797453184923805585130189738565188016821213056246079215868348982679983845999363819485495365395755478761048859559809436229595179188117994061242239329324389685506371668165041602451794134966137706873491294772835515449964637924106386891545551160693613057816561309159884746820890362930064047220755053286869786559927535799697939082598271928128158056702660152610518079136121780825099852171924389017850885557902175878585123322580521\n",
      "D: 382344451780610467959527139760180318121645195110638829953936262375577881410554702768445755421551985481721431933905788609822082843915128864082223568582147505243263136205667190009711211566387222660216878775730290108642974687329099576774093994160783548392627010800285694713045795076665756446324961708265031066257167210706637848159804451001125878701724882782493891759461265038414386354062609734912234168937644909852307073857135971396049669793279377634242057344317456172309077714191141219001305560804650934422731914718591292340671657454639907381533716377397066565598485259200398245229826450908603717921533643191071218473\n",
      "P: 162264505493381649349963835013153238551231787814377466629346996385920555592033288091805014912360923207024726909106551854674689229835138247028083050395495218351380014078252921388978422739650299446679897625740715127197185898369958708529981769938997272359226058045264078245089090918985377432724909644066697866941\n",
      "Q: 166197389509026571048648827573311462547034551293108975463577866002764754775770890299640691667011278911524606668804874050643746216163048998754404535848498463348360466312311082788831568124624789676268370418481075066270510752186588817380134782937318758998829642284489618560777448603795611649981677058925789436381\n",
      "U: 42612206204453492874684691506573387229291653021625638613593336522949721035535939029416839348135296767166300831367583679831061496745163045679627058356359017414518859226530954989377204567622101193679307547842757309486820013418460449274425065012122052545979611545143706393882987531197516582944683948842488521415\n"
     ]
    }
   ],
   "source": [
    "print(\"RSA KEY INFORMATION\")\n",
    "print('N: {0}'.format(publicKey.n))\n",
    "print('E: {0}'.format(publicKey.e))\n",
    "print('N: {0}'.format(privateKey.n))\n",
    "print('D: {0}'.format(privateKey.d))\n",
    "print('P: {0}'.format(privateKey.p))\n",
    "print('Q: {0}'.format(privateKey.q))\n",
    "print('U: {0}'.format(privateKey.u))\n",
    "#print('Phi of N: {0}'.format((privateKey.p)*(privateKey.q))"
   ]
  },
  {
   "cell_type": "markdown",
   "id": "c5ef3083-187e-4e3e-b68f-b2b6c36eb0cc",
   "metadata": {},
   "source": [
    "# Signature Generation"
   ]
  },
  {
   "cell_type": "code",
   "execution_count": 10,
   "id": "f985a442-8827-4dfb-a2a8-16db8bd4a7cc",
   "metadata": {},
   "outputs": [
    {
     "name": "stdout",
     "output_type": "stream",
     "text": [
      "Endianess: little\n",
      "SHA256 OID: 2.16.840.1.101.3.4.2.1\n",
      "72155939486846849509759369733266486982821795810448245423168957390607644363272\n"
     ]
    }
   ],
   "source": [
    "#endian = sys.byteorder\n",
    "endian = 'big' #can be altered to \"big\" if windows or wsl but the circuit does not work for it.\n",
    "print('Endianess: {0}'.format(endian))\n",
    "message = b'test'\n",
    "messageHash = SHA256.new(message)\n",
    "print('SHA256 OID: {0}'.format(messageHash.oid))\n",
    "messageHashAsBigInt = int.from_bytes(messageHash.digest(), endian)\n",
    "print(messageHashAsBigInt)"
   ]
  },
  {
   "cell_type": "code",
   "execution_count": 11,
   "id": "6f02fc55-c2c7-4936-ad00-017c9dbedd78",
   "metadata": {},
   "outputs": [],
   "source": [
    "signature = pkcs1_15.new(privateKey).sign(messageHash)"
   ]
  },
  {
   "cell_type": "code",
   "execution_count": 13,
   "id": "686f423d-d1a0-4ff1-9d21-643995d40328",
   "metadata": {},
   "outputs": [
    {
     "name": "stdout",
     "output_type": "stream",
     "text": [
      "4977132100521344291593622555317010527368464443987083084110322453271483199600171023258697394642350113452164166578195274630800859735998996553966121986171359184746456576789867137032532467837138226631016517914112831712482700379774130284093289687575291946927788679347035913458045090327988573679972849599080822067389228743467082208133926525605587541133937914445335085965902641661393127488061750489336850013504190160229421938011178245365152905554653744115189942705674683950003538326825565606108384932480236582001010996053848669829121263977303602067598156419479486195014911595017686784799765690806833295290348595016389287118\n"
     ]
    }
   ],
   "source": [
    "signatureAsBigInt = int.from_bytes(signature, endian)\n",
    "print(signatureAsBigInt)"
   ]
  },
  {
   "cell_type": "markdown",
   "id": "ab3b8fcd-bd63-4537-9649-7c1092e7ca8a",
   "metadata": {},
   "source": [
    "# Signature Verification"
   ]
  },
  {
   "cell_type": "code",
   "execution_count": 14,
   "id": "42fb1918-d4f3-47bd-8d86-e0071d139f94",
   "metadata": {},
   "outputs": [
    {
     "name": "stdout",
     "output_type": "stream",
     "text": [
      "The signature is valid.\n"
     ]
    }
   ],
   "source": [
    "try:\n",
    "    pkcs1_15.new(publicKey).verify(messageHash, signature)\n",
    "    print (\"The signature is valid.\")\n",
    "except (ValueError, TypeError):\n",
    "   print (\"The signature is not valid.\")"
   ]
  },
  {
   "cell_type": "markdown",
   "id": "77356abf-d1d8-4733-9603-b008a66ff007",
   "metadata": {},
   "source": [
    "# Save the Public Modulus, E, the signature and the hash to a json file:"
   ]
  },
  {
   "cell_type": "code",
   "execution_count": 15,
   "id": "c3be2bd9-3dc8-401d-b417-deb8d6c12174",
   "metadata": {},
   "outputs": [],
   "source": [
    "import json\n",
    "def generate_json(N, E, sign, hashed): \n",
    "\n",
    "    # Structure the result as a dictionary matching the JSON format\n",
    "    result = {\n",
    "        \"N\": N,\n",
    "        \"E\": E,\n",
    "        \"sign\": sign,\n",
    "        \"hashed\": hashed\n",
    "    }\n",
    "\n",
    "    # Convert to JSON string\n",
    "    return json.dumps(result, indent=4)"
   ]
  },
  {
   "cell_type": "code",
   "execution_count": 16,
   "id": "306f661b-dd65-49e5-ac19-a02f7a433e05",
   "metadata": {},
   "outputs": [],
   "source": [
    "signature_json_data = generate_json(publicKey.n, publicKey.e, signatureAsBigInt, messageHashAsBigInt)"
   ]
  },
  {
   "cell_type": "code",
   "execution_count": 17,
   "id": "80cc2445-596d-41d8-8b52-ef0a1fa6fb9a",
   "metadata": {},
   "outputs": [
    {
     "name": "stdout",
     "output_type": "stream",
     "text": [
      "Signature JSON data has been written to signature.json\n"
     ]
    }
   ],
   "source": [
    "with open(\"signature.json\", \"w\") as json_file:\n",
    "    json.dump(signature_json_data, json_file, indent=4)\n",
    "    print(f\"Signature JSON data has been written to signature.json\")"
   ]
  },
  {
   "cell_type": "code",
   "execution_count": null,
   "id": "0053da5e-e9a7-4160-a3b6-44d2308007ac",
   "metadata": {},
   "outputs": [],
   "source": []
  }
 ],
 "metadata": {
  "kernelspec": {
   "display_name": "Python 3 (ipykernel)",
   "language": "python",
   "name": "python3"
  },
  "language_info": {
   "codemirror_mode": {
    "name": "ipython",
    "version": 3
   },
   "file_extension": ".py",
   "mimetype": "text/x-python",
   "name": "python",
   "nbconvert_exporter": "python",
   "pygments_lexer": "ipython3",
   "version": "3.8.19"
  }
 },
 "nbformat": 4,
 "nbformat_minor": 5
}
